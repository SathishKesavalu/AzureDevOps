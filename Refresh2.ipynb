{
  "nbformat": 4,
  "nbformat_minor": 0,
  "metadata": {
    "colab": {
      "provenance": [],
      "authorship_tag": "ABX9TyPla8cDNp3c1CxyGKm7NLD5",
      "include_colab_link": true
    },
    "kernelspec": {
      "name": "python3",
      "display_name": "Python 3"
    },
    "language_info": {
      "name": "python"
    }
  },
  "cells": [
    {
      "cell_type": "markdown",
      "metadata": {
        "id": "view-in-github",
        "colab_type": "text"
      },
      "source": [
        "<a href=\"https://colab.research.google.com/github/SathishKesavalu/AzureDevOps/blob/main/Refresh2.ipynb\" target=\"_parent\"><img src=\"https://colab.research.google.com/assets/colab-badge.svg\" alt=\"Open In Colab\"/></a>"
      ]
    },
    {
      "cell_type": "code",
      "execution_count": null,
      "metadata": {
        "colab": {
          "base_uri": "https://localhost:8080/"
        },
        "id": "x1uTuFODi8Pm",
        "outputId": "b4bbe595-2bd7-42f4-c812-e1cec4231d7f"
      },
      "outputs": [
        {
          "output_type": "stream",
          "name": "stdout",
          "text": [
            "10 is greater than 5\n"
          ]
        }
      ],
      "source": [
        "# If statement example\n",
        "x = 10\n",
        "if x > 5:\n",
        "    print(f'{x} is greater than 5')"
      ]
    },
    {
      "cell_type": "code",
      "source": [
        "# For loop example\n",
        "fruits = ['apple', 'banana', 'cherry','Mngo', 'pineapple', 'gauva']\n",
        "for i in fruits:\n",
        "    print(i)"
      ],
      "metadata": {
        "colab": {
          "base_uri": "https://localhost:8080/"
        },
        "id": "7VopZjzgi_i4",
        "outputId": "be911345-7d29-412a-f5fb-fd4bb08e906a"
      },
      "execution_count": null,
      "outputs": [
        {
          "output_type": "stream",
          "name": "stdout",
          "text": [
            "apple\n",
            "banana\n",
            "cherry\n",
            "Mngo\n",
            "pineapple\n",
            "gauva\n"
          ]
        }
      ]
    },
    {
      "cell_type": "code",
      "source": [
        "# For loop example\n",
        "fruits = ['apple', 'banana', 'cherry','Mngo', 'pineapple', 'gauva']\n",
        "print (fruits[3])\n",
        "\n",
        "# More Pythonic way of FOR loop\n",
        "for i in fruits:\n",
        "    print(i)\n",
        "\n",
        "print('-----------------')\n",
        "\n",
        "# More Tranditional way of FOR loop\n",
        "for j in range(6):\n",
        "  print (j,fruits[j])\n",
        "\n",
        "# More XXXX way of FOR loop\n",
        "\n",
        "for j in range(len(fruits)):\n",
        "  print (j,fruits[j])\n",
        "\n",
        "# More Enumurate way of FOR loop\n",
        "print (\"----------------\")\n",
        "for idx, element in enumerate(fruits):\n",
        "  print(idx, element)"
      ],
      "metadata": {
        "colab": {
          "base_uri": "https://localhost:8080/"
        },
        "id": "vek_RSbxj6d2",
        "outputId": "126d2e2f-3673-4c64-91e8-4dfe33f655da"
      },
      "execution_count": null,
      "outputs": [
        {
          "output_type": "stream",
          "name": "stdout",
          "text": [
            "Mngo\n",
            "apple\n",
            "banana\n",
            "cherry\n",
            "Mngo\n",
            "pineapple\n",
            "gauva\n",
            "-----------------\n",
            "0 apple\n",
            "1 banana\n",
            "2 cherry\n",
            "3 Mngo\n",
            "4 pineapple\n",
            "5 gauva\n",
            "0 apple\n",
            "1 banana\n",
            "2 cherry\n",
            "3 Mngo\n",
            "4 pineapple\n",
            "5 gauva\n",
            "----------------\n",
            "0 apple\n",
            "1 banana\n",
            "2 cherry\n",
            "3 Mngo\n",
            "4 pineapple\n",
            "5 gauva\n"
          ]
        }
      ]
    },
    {
      "cell_type": "code",
      "source": [
        "count = 1\n",
        "while count < 50:\n",
        "    print(count)\n",
        "    count *= 2"
      ],
      "metadata": {
        "colab": {
          "base_uri": "https://localhost:8080/"
        },
        "id": "6CXZYK_Sm7BQ",
        "outputId": "5851b238-7d14-4411-d27f-c7eb82be7044"
      },
      "execution_count": null,
      "outputs": [
        {
          "output_type": "stream",
          "name": "stdout",
          "text": [
            "1\n",
            "2\n",
            "4\n",
            "8\n",
            "16\n",
            "32\n"
          ]
        }
      ]
    },
    {
      "cell_type": "code",
      "source": [
        "for i in range(5):\n",
        "    if i == 3:\n",
        "        break\n",
        "    print(i)\n",
        "print (\"----------------\")\n",
        "# Continue example\n",
        "for i in range(5):\n",
        "    if i == 3:\n",
        "        continue\n",
        "    print(i)"
      ],
      "metadata": {
        "colab": {
          "base_uri": "https://localhost:8080/"
        },
        "id": "5JbhSTJzoHVy",
        "outputId": "5ebc18c4-1153-4e72-c863-fcfdcfa1f6fe"
      },
      "execution_count": null,
      "outputs": [
        {
          "output_type": "stream",
          "name": "stdout",
          "text": [
            "0\n",
            "1\n",
            "2\n",
            "----------------\n",
            "0\n",
            "1\n",
            "2\n",
            "4\n"
          ]
        }
      ]
    },
    {
      "cell_type": "code",
      "source": [
        "# Function example\n",
        "def greet(name):\n",
        "    return f'Hello, {name}!'\n",
        "\n",
        "# Call the function\n",
        "print(greet('Alice'))\n",
        "print(greet('Bob'))"
      ],
      "metadata": {
        "colab": {
          "base_uri": "https://localhost:8080/"
        },
        "id": "NpcidssEp39v",
        "outputId": "ba3e9a31-3da9-43ba-bc8e-6d5c532be832"
      },
      "execution_count": null,
      "outputs": [
        {
          "output_type": "stream",
          "name": "stdout",
          "text": [
            "Hello, Alice!\n",
            "Hello, Bob!\n"
          ]
        }
      ]
    },
    {
      "cell_type": "code",
      "source": [
        "def subtract(a, b):   #paraments a and b\n",
        "  return a - b\n",
        "\n",
        "result = subtract(10, 5) # Python assumes a = 10 and b = 5 the values which are passed are Arguments\n",
        "print(result) # Output: 5\n"
      ],
      "metadata": {
        "colab": {
          "base_uri": "https://localhost:8080/"
        },
        "id": "7CTYgo8KqOSc",
        "outputId": "4aeee0cd-7a13-4899-fb72-754a622fa717"
      },
      "execution_count": null,
      "outputs": [
        {
          "output_type": "stream",
          "name": "stdout",
          "text": [
            "5\n"
          ]
        }
      ]
    },
    {
      "cell_type": "code",
      "source": [
        "def greet(name, message):\n",
        "  print(f\"{message}, {name}!\")\n",
        "\n",
        "greet(name = \"Alice\", message=\"Hello\")\n",
        "greet(message = \"Hi\", name = \"Bob\")\n"
      ],
      "metadata": {
        "colab": {
          "base_uri": "https://localhost:8080/"
        },
        "id": "tSxY8K_BrJPO",
        "outputId": "6d2ce363-ba13-4936-88bb-b1241875b712"
      },
      "execution_count": null,
      "outputs": [
        {
          "output_type": "stream",
          "name": "stdout",
          "text": [
            "Hello, Alice!\n",
            "Hi, Bob!\n"
          ]
        }
      ]
    },
    {
      "cell_type": "code",
      "source": [],
      "metadata": {
        "id": "dlqehJnSt0Rz"
      },
      "execution_count": null,
      "outputs": []
    },
    {
      "cell_type": "code",
      "source": [
        "def greet(name, message=\"Hello\"):\n",
        "  print(f\"{message}, {name}!\")\n",
        "\n",
        "greet(\"Alice\")\n",
        "greet(\"Bob\", \"Hi\")"
      ],
      "metadata": {
        "colab": {
          "base_uri": "https://localhost:8080/"
        },
        "id": "NOdoflDlrh2e",
        "outputId": "f7539757-26c9-4eb2-bfd9-e3aa837beda2"
      },
      "execution_count": null,
      "outputs": [
        {
          "output_type": "stream",
          "name": "stdout",
          "text": [
            "Hello, Alice!\n",
            "Hi, Bob!\n"
          ]
        }
      ]
    },
    {
      "cell_type": "code",
      "source": [
        "def multiply(*args):\n",
        "  result = 1\n",
        "  for num in args:\n",
        "    result *= num\n",
        "  return result\n",
        "print(multiply(1, 2, 3, 4))"
      ],
      "metadata": {
        "colab": {
          "base_uri": "https://localhost:8080/"
        },
        "id": "Ucr2MfqOsKYd",
        "outputId": "c87e00a1-8d0d-44a3-df20-39c212e757fd"
      },
      "execution_count": null,
      "outputs": [
        {
          "output_type": "stream",
          "name": "stdout",
          "text": [
            "24\n"
          ]
        }
      ]
    },
    {
      "cell_type": "code",
      "source": [
        "def print_info(**kwargs):\n",
        "  for key, value in kwargs.items():\n",
        "    print(f\"{key}: {value}\")\n",
        "\n",
        "print_info(name=\"Alice\", age=30,\n",
        "city=\"New York\")"
      ],
      "metadata": {
        "colab": {
          "base_uri": "https://localhost:8080/"
        },
        "id": "BkCwuN3XsW5Q",
        "outputId": "bd8c7a07-1780-4973-fcc8-99aafb4271e3"
      },
      "execution_count": null,
      "outputs": [
        {
          "output_type": "stream",
          "name": "stdout",
          "text": [
            "name: Alice\n",
            "age: 30\n",
            "city: New York\n"
          ]
        }
      ]
    },
    {
      "cell_type": "code",
      "source": [
        "def add(num_a, num_b, num_c):\n",
        "  return num_a + num_b + num_c\n",
        "\n",
        "print (add(1,2,3))\n",
        "print (add(1001,2,4))"
      ],
      "metadata": {
        "colab": {
          "base_uri": "https://localhost:8080/"
        },
        "id": "pi3BXpCZt1hQ",
        "outputId": "352aafa4-46cc-403e-d89a-5462467eabd0"
      },
      "execution_count": null,
      "outputs": [
        {
          "output_type": "stream",
          "name": "stdout",
          "text": [
            "6\n",
            "1007\n"
          ]
        }
      ]
    },
    {
      "cell_type": "code",
      "source": [
        "def greet_without_kwargs(name=None, city=None, age=None):  # This creats a dictonary\n",
        "    message = \"Hello!\"\n",
        "    if name:\n",
        "        message += f\" {name}!\"\n",
        "    if city:\n",
        "        message += f\" Welcome from {city}!\"\n",
        "    if age:\n",
        "        message += f\" You are {age} years old.\"\n",
        "    return message\n",
        "\n",
        "print(greet_without_kwargs())\n",
        "print(greet_without_kwargs(name=\"Alice\"))\n",
        "print(greet_without_kwargs(name=\"Bob\", city=\"New York\"))\n",
        "print(greet_without_kwargs(name=\"Charlie\", age=30))\n",
        "print(greet_without_kwargs(name=\"David\", city=\"SFO\", age=25))"
      ],
      "metadata": {
        "colab": {
          "base_uri": "https://localhost:8080/"
        },
        "id": "u1y4j4fzvPj1",
        "outputId": "e3c6fe61-6a36-433a-81a6-16714acf7ad6"
      },
      "execution_count": null,
      "outputs": [
        {
          "output_type": "stream",
          "name": "stdout",
          "text": [
            "Hello!\n",
            "Hello! Alice!\n",
            "Hello! Bob! Welcome from New York!\n",
            "Hello! Charlie! You are 30 years old.\n",
            "Hello! David! Welcome from SFO! You are 25 years old.\n"
          ]
        }
      ]
    },
    {
      "cell_type": "code",
      "source": [
        "user_data = {\n",
        "    'name' : 'alice',\n",
        "    'job' : 'ML',\n",
        "    'team' : 'insignts'\n",
        "}\n",
        "for key, value in user_data.items():\n",
        "  print (\"key\",key,\"value\",value)"
      ],
      "metadata": {
        "colab": {
          "base_uri": "https://localhost:8080/"
        },
        "id": "d0iOPfE8wUwH",
        "outputId": "5c742f20-c301-4570-80bd-ccf237fe0f71"
      },
      "execution_count": null,
      "outputs": [
        {
          "output_type": "stream",
          "name": "stdout",
          "text": [
            "key name value alice\n",
            "key job value ML\n",
            "key team value insignts\n"
          ]
        }
      ]
    },
    {
      "cell_type": "code",
      "source": [
        "def demo(a, b, *args, c=0, **kwargs):\n",
        "    print(a, b)\n",
        "    print(args)\n",
        "    print(c)\n",
        "    print(kwargs)\n",
        "\n",
        "demo(1, 2, 3, 4, c=5, d=6, e=7)"
      ],
      "metadata": {
        "colab": {
          "base_uri": "https://localhost:8080/"
        },
        "id": "-CrjubXOxh0Z",
        "outputId": "2044a6f6-ddcf-4f02-bec6-44ebd699915f"
      },
      "execution_count": null,
      "outputs": [
        {
          "output_type": "stream",
          "name": "stdout",
          "text": [
            "1 2\n",
            "(3, 4)\n",
            "5\n",
            "{'d': 6, 'e': 7}\n"
          ]
        }
      ]
    },
    {
      "cell_type": "code",
      "source": [
        "import seaborn as sns\n",
        "? sns.barplot"
      ],
      "metadata": {
        "id": "P_AiKXYUxyWa"
      },
      "execution_count": null,
      "outputs": []
    }
  ]
}